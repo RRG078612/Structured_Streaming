{
 "cells": [
  {
   "cell_type": "code",
   "execution_count": 1,
   "id": "48f7316a",
   "metadata": {},
   "outputs": [],
   "source": [
    "from pyspark.sql import *"
   ]
  },
  {
   "cell_type": "code",
   "execution_count": null,
   "id": "0879d4e6",
   "metadata": {},
   "outputs": [],
   "source": [
    "# Create a bronze table from the ADLS Gen2 File"
   ]
  },
  {
   "cell_type": "code",
   "execution_count": null,
   "id": "483142a3",
   "metadata": {},
   "outputs": [],
   "source": [
    "CREATE STREAMING TABLE orders_bronze\n",
    "AS \n",
    "SELECT  \n",
    "*\n",
    ",_metadata.file_name as file_name\n",
    ",current_timestamp as updated_on\n",
    "FROM cloudFiles('<path>','<format>',map('cloudFiles.inferSchema',True))"
   ]
  },
  {
   "cell_type": "code",
   "execution_count": null,
   "id": "9cb9a19a",
   "metadata": {},
   "outputs": [],
   "source": [
    "CREATE STREAMING TABLE customers_bronze\n",
    "AS \n",
    "SELECT  \n",
    "*\n",
    ",_metadata.file_name as file_name\n",
    ",current_timestamp as updated_on\n",
    "FROM cloud_files('<path>','<format>',map('cloudFiles.inferSchema',True))"
   ]
  },
  {
   "cell_type": "code",
   "execution_count": null,
   "id": "b1cdc738",
   "metadata": {},
   "outputs": [],
   "source": [
    "# create a silver cleaned table"
   ]
  },
  {
   "cell_type": "code",
   "execution_count": null,
   "id": "8235769f",
   "metadata": {},
   "outputs": [],
   "source": [
    "CREATE STREAMING TABLE orders_cleaned\n",
    "(\n",
    "    CONSTRAINT <name>\n",
    ")\n",
    "AS \n",
    "SELECT  \n",
    "*\n",
    ",_metadata.file_name as file_name\n",
    ",current_timestamp as updated_on\n",
    "FROM cloud_files('<path>','<format>',map('cloudFiles.inferSchema',True))"
   ]
  },
  {
   "cell_type": "code",
   "execution_count": null,
   "id": "89c8a65a",
   "metadata": {},
   "outputs": [],
   "source": [
    "CREATE STREAMING TABLE orders_silver_cleaned (\n",
    "\tCONSTRAINT valid_order EXPECT (order_id is NOT NULL) ON VIOLATION DROP ROW,\n",
    "\tCONSTRAINT valid_customer EXPECT (customer_id is NOT NULL) ON VIOLATION DROP ROW\t\n",
    ") as \n",
    "SELECT orderid as order_id,\n",
    "orderdate as order_date,\n",
    "customerid as customer_id,\n",
    "totalamount as total_amount,\n",
    "status,\n",
    "filename as file_name,\n",
    "load_time\n",
    "FROM STREAM(live.orders_bronze);"
   ]
  },
  {
   "cell_type": "code",
   "execution_count": null,
   "id": "7a325db4",
   "metadata": {},
   "outputs": [],
   "source": [
    "CREATE STREAMING TABLE customers_silver_cleaned(\n",
    "\tCONSTRAINT valid_customer EXPECT (customer_id is NOT NULL) ON VIOLATION DROP ROW\n",
    ") as\n",
    "SELECT customerid as customer_id,\n",
    "customername as customer_name,\n",
    "address as city,\n",
    "dateofbirth as dob,\n",
    "registrationdate as customer_since,\n",
    "filename as file_name,\n",
    "load_time\n",
    "from STREAM(live.customers_bronze);"
   ]
  },
  {
   "cell_type": "code",
   "execution_count": null,
   "id": "194a4ab1",
   "metadata": {},
   "outputs": [],
   "source": [
    "# merge changes into orders_silver table\n",
    "\n",
    "CREATE STREAMING TABLE orders_silver;\n",
    "\n",
    "APPLY CHANGES INTO orders_silver\n",
    "FROM STREAM(live.orders_silver_cleaned)\n",
    "keys(order_id)\n",
    "sequence by updated_on\n"
   ]
  },
  {
   "cell_type": "code",
   "execution_count": null,
   "id": "6ff93ff7",
   "metadata": {},
   "outputs": [],
   "source": [
    "# merge changes into orders_silver table\n",
    "\n",
    "CREATE STREAMING TABLE orders_silver;\n",
    "\n",
    "APPLY CHANGES INTO customers_silver\n",
    "FROM STREAM(live.customers_silver_cleaned)\n",
    "keys(cusotmer_id)\n",
    "sequence by updated_on\n",
    "stored as scd type2"
   ]
  },
  {
   "cell_type": "code",
   "execution_count": null,
   "id": "5525d490",
   "metadata": {},
   "outputs": [],
   "source": [
    "#  crreate a materliazed view\n",
    "\n",
    "CREATE MATERIALIZED VIEW city_wise_sales_gold\n",
    "as\n",
    "SELECT city, sum(total_amount) as total_sales\n",
    "from live.orders_silver o\n",
    "join live.customers_silver c\n",
    "on o.customer_id = c.customer_id\n",
    "group by city;\n"
   ]
  }
 ],
 "metadata": {
  "kernelspec": {
   "display_name": "Python 3",
   "language": "python",
   "name": "python3"
  },
  "language_info": {
   "codemirror_mode": {
    "name": "ipython",
    "version": 3
   },
   "file_extension": ".py",
   "mimetype": "text/x-python",
   "name": "python",
   "nbconvert_exporter": "python",
   "pygments_lexer": "ipython3",
   "version": "3.13.3"
  }
 },
 "nbformat": 4,
 "nbformat_minor": 5
}
